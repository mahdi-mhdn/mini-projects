{
 "cells": [
  {
   "cell_type": "code",
   "execution_count": 1,
   "id": "53324773",
   "metadata": {},
   "outputs": [],
   "source": [
    "from sentanalyser import stranalyse,seranalyse"
   ]
  },
  {
   "cell_type": "code",
   "execution_count": 2,
   "id": "da74cea1",
   "metadata": {},
   "outputs": [
    {
     "data": {
      "text/plain": [
       "'happy'"
      ]
     },
     "execution_count": 2,
     "metadata": {},
     "output_type": "execute_result"
    }
   ],
   "source": [
    "stranalyse('i do not hate you')"
   ]
  },
  {
   "cell_type": "code",
   "execution_count": 3,
   "id": "50c58af4",
   "metadata": {},
   "outputs": [],
   "source": [
    "list=['hey hate you','it was really good','im sad','its some not chair','wow such a beauty']"
   ]
  },
  {
   "cell_type": "code",
   "execution_count": 4,
   "id": "12652157",
   "metadata": {},
   "outputs": [
    {
     "data": {
      "text/plain": [
       "['neutral', 'happy', 'sadness', 'sadness', 'happy']"
      ]
     },
     "execution_count": 4,
     "metadata": {},
     "output_type": "execute_result"
    }
   ],
   "source": [
    "seranalyse(list)"
   ]
  },
  {
   "cell_type": "code",
   "execution_count": 5,
   "id": "e43d4634",
   "metadata": {},
   "outputs": [],
   "source": [
    "import pandas as pd\n",
    "df=pd.read_csv('Emotion_final.csv')\n",
    "binary_target=['sadness','happy']\n",
    "df=df[df['Emotion'].isin(binary_target)]"
   ]
  },
  {
   "cell_type": "code",
   "execution_count": 6,
   "id": "88a49030",
   "metadata": {},
   "outputs": [
    {
     "data": {
      "text/plain": [
       "['sadness',\n",
       " 'neutral',\n",
       " 'sadness',\n",
       " 'happy',\n",
       " 'sadness',\n",
       " 'happy',\n",
       " 'sadness',\n",
       " 'neutral',\n",
       " 'sadness',\n",
       " 'neutral',\n",
       " 'sadness',\n",
       " 'happy',\n",
       " 'happy',\n",
       " 'happy',\n",
       " 'sadness',\n",
       " 'sadness',\n",
       " 'sadness',\n",
       " 'sadness',\n",
       " 'happy',\n",
       " 'sadness']"
      ]
     },
     "execution_count": 6,
     "metadata": {},
     "output_type": "execute_result"
    }
   ],
   "source": [
    "seranalyse(df['Text'].iloc[0:20])"
   ]
  },
  {
   "cell_type": "code",
   "execution_count": null,
   "id": "9272b845",
   "metadata": {},
   "outputs": [],
   "source": []
  }
 ],
 "metadata": {
  "kernelspec": {
   "display_name": "Python 3 (ipykernel)",
   "language": "python",
   "name": "python3"
  },
  "language_info": {
   "codemirror_mode": {
    "name": "ipython",
    "version": 3
   },
   "file_extension": ".py",
   "mimetype": "text/x-python",
   "name": "python",
   "nbconvert_exporter": "python",
   "pygments_lexer": "ipython3",
   "version": "3.9.7"
  }
 },
 "nbformat": 4,
 "nbformat_minor": 5
}
